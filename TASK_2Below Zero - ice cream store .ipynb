{
 "cells": [
  {
   "cell_type": "markdown",
   "id": "31b204f0",
   "metadata": {},
   "source": [
    "## TASK_B Below Zero - ice cream store "
   ]
  },
  {
   "cell_type": "markdown",
   "id": "b7b25b12",
   "metadata": {},
   "source": [
    "\n"
   ]
  },
  {
   "cell_type": "code",
   "execution_count": 2,
   "id": "a8268d89",
   "metadata": {},
   "outputs": [],
   "source": [
    "import numpy as np\n",
    "import pandas as pd\n",
    "import matplotlib.pyplot as plt\n",
    "import seaborn as sns"
   ]
  },
  {
   "cell_type": "code",
   "execution_count": 3,
   "id": "f161e27c",
   "metadata": {},
   "outputs": [
    {
     "data": {
      "text/html": [
       "<div>\n",
       "<style scoped>\n",
       "    .dataframe tbody tr th:only-of-type {\n",
       "        vertical-align: middle;\n",
       "    }\n",
       "\n",
       "    .dataframe tbody tr th {\n",
       "        vertical-align: top;\n",
       "    }\n",
       "\n",
       "    .dataframe thead th {\n",
       "        text-align: right;\n",
       "    }\n",
       "</style>\n",
       "<table border=\"1\" class=\"dataframe\">\n",
       "  <thead>\n",
       "    <tr style=\"text-align: right;\">\n",
       "      <th></th>\n",
       "      <th>Store</th>\n",
       "      <th>Region</th>\n",
       "    </tr>\n",
       "  </thead>\n",
       "  <tbody>\n",
       "    <tr>\n",
       "      <th>0</th>\n",
       "      <td>1</td>\n",
       "      <td>A</td>\n",
       "    </tr>\n",
       "    <tr>\n",
       "      <th>1</th>\n",
       "      <td>2</td>\n",
       "      <td>A</td>\n",
       "    </tr>\n",
       "    <tr>\n",
       "      <th>2</th>\n",
       "      <td>3</td>\n",
       "      <td>A</td>\n",
       "    </tr>\n",
       "    <tr>\n",
       "      <th>3</th>\n",
       "      <td>4</td>\n",
       "      <td>A</td>\n",
       "    </tr>\n",
       "    <tr>\n",
       "      <th>4</th>\n",
       "      <td>5</td>\n",
       "      <td>A</td>\n",
       "    </tr>\n",
       "  </tbody>\n",
       "</table>\n",
       "</div>"
      ],
      "text/plain": [
       "   Store Region\n",
       "0      1      A\n",
       "1      2      A\n",
       "2      3      A\n",
       "3      4      A\n",
       "4      5      A"
      ]
     },
     "execution_count": 3,
     "metadata": {},
     "output_type": "execute_result"
    }
   ],
   "source": [
    "region = pd.read_csv('Region.csv')\n",
    "region.head()"
   ]
  },
  {
   "cell_type": "code",
   "execution_count": 4,
   "id": "40221974",
   "metadata": {},
   "outputs": [
    {
     "name": "stdout",
     "output_type": "stream",
     "text": [
      "<class 'pandas.core.frame.DataFrame'>\n",
      "RangeIndex: 45 entries, 0 to 44\n",
      "Data columns (total 2 columns):\n",
      " #   Column  Non-Null Count  Dtype \n",
      "---  ------  --------------  ----- \n",
      " 0   Store   45 non-null     int64 \n",
      " 1   Region  45 non-null     object\n",
      "dtypes: int64(1), object(1)\n",
      "memory usage: 848.0+ bytes\n"
     ]
    }
   ],
   "source": [
    "region.info()"
   ]
  },
  {
   "cell_type": "code",
   "execution_count": 5,
   "id": "1e2ed64f",
   "metadata": {},
   "outputs": [
    {
     "data": {
      "text/plain": [
       "Store     0\n",
       "Region    0\n",
       "dtype: int64"
      ]
     },
     "execution_count": 5,
     "metadata": {},
     "output_type": "execute_result"
    }
   ],
   "source": [
    "region.isnull().sum()"
   ]
  },
  {
   "cell_type": "code",
   "execution_count": 6,
   "id": "0ba6e2d5",
   "metadata": {},
   "outputs": [
    {
     "data": {
      "text/html": [
       "<div>\n",
       "<style scoped>\n",
       "    .dataframe tbody tr th:only-of-type {\n",
       "        vertical-align: middle;\n",
       "    }\n",
       "\n",
       "    .dataframe tbody tr th {\n",
       "        vertical-align: top;\n",
       "    }\n",
       "\n",
       "    .dataframe thead th {\n",
       "        text-align: right;\n",
       "    }\n",
       "</style>\n",
       "<table border=\"1\" class=\"dataframe\">\n",
       "  <thead>\n",
       "    <tr style=\"text-align: right;\">\n",
       "      <th></th>\n",
       "      <th>Store</th>\n",
       "      <th>Date</th>\n",
       "      <th>Temperature</th>\n",
       "      <th>Unemployment</th>\n",
       "    </tr>\n",
       "  </thead>\n",
       "  <tbody>\n",
       "    <tr>\n",
       "      <th>0</th>\n",
       "      <td>1</td>\n",
       "      <td>5/02/2010</td>\n",
       "      <td>42.31</td>\n",
       "      <td>8.106</td>\n",
       "    </tr>\n",
       "    <tr>\n",
       "      <th>1</th>\n",
       "      <td>1</td>\n",
       "      <td>12/02/2010</td>\n",
       "      <td>38.51</td>\n",
       "      <td>8.106</td>\n",
       "    </tr>\n",
       "    <tr>\n",
       "      <th>2</th>\n",
       "      <td>1</td>\n",
       "      <td>19/02/2010</td>\n",
       "      <td>39.93</td>\n",
       "      <td>8.106</td>\n",
       "    </tr>\n",
       "    <tr>\n",
       "      <th>3</th>\n",
       "      <td>1</td>\n",
       "      <td>26/02/2010</td>\n",
       "      <td>46.63</td>\n",
       "      <td>8.106</td>\n",
       "    </tr>\n",
       "    <tr>\n",
       "      <th>4</th>\n",
       "      <td>1</td>\n",
       "      <td>5/03/2010</td>\n",
       "      <td>46.50</td>\n",
       "      <td>8.106</td>\n",
       "    </tr>\n",
       "    <tr>\n",
       "      <th>...</th>\n",
       "      <td>...</td>\n",
       "      <td>...</td>\n",
       "      <td>...</td>\n",
       "      <td>...</td>\n",
       "    </tr>\n",
       "    <tr>\n",
       "      <th>8185</th>\n",
       "      <td>45</td>\n",
       "      <td>28/06/2013</td>\n",
       "      <td>76.05</td>\n",
       "      <td>NaN</td>\n",
       "    </tr>\n",
       "    <tr>\n",
       "      <th>8186</th>\n",
       "      <td>45</td>\n",
       "      <td>5/07/2013</td>\n",
       "      <td>77.50</td>\n",
       "      <td>NaN</td>\n",
       "    </tr>\n",
       "    <tr>\n",
       "      <th>8187</th>\n",
       "      <td>45</td>\n",
       "      <td>12/07/2013</td>\n",
       "      <td>79.37</td>\n",
       "      <td>NaN</td>\n",
       "    </tr>\n",
       "    <tr>\n",
       "      <th>8188</th>\n",
       "      <td>45</td>\n",
       "      <td>19/07/2013</td>\n",
       "      <td>82.84</td>\n",
       "      <td>NaN</td>\n",
       "    </tr>\n",
       "    <tr>\n",
       "      <th>8189</th>\n",
       "      <td>45</td>\n",
       "      <td>26/07/2013</td>\n",
       "      <td>76.06</td>\n",
       "      <td>NaN</td>\n",
       "    </tr>\n",
       "  </tbody>\n",
       "</table>\n",
       "<p>8190 rows × 4 columns</p>\n",
       "</div>"
      ],
      "text/plain": [
       "      Store        Date  Temperature  Unemployment\n",
       "0         1   5/02/2010        42.31         8.106\n",
       "1         1  12/02/2010        38.51         8.106\n",
       "2         1  19/02/2010        39.93         8.106\n",
       "3         1  26/02/2010        46.63         8.106\n",
       "4         1   5/03/2010        46.50         8.106\n",
       "...     ...         ...          ...           ...\n",
       "8185     45  28/06/2013        76.05           NaN\n",
       "8186     45   5/07/2013        77.50           NaN\n",
       "8187     45  12/07/2013        79.37           NaN\n",
       "8188     45  19/07/2013        82.84           NaN\n",
       "8189     45  26/07/2013        76.06           NaN\n",
       "\n",
       "[8190 rows x 4 columns]"
      ]
     },
     "execution_count": 6,
     "metadata": {},
     "output_type": "execute_result"
    }
   ],
   "source": [
    "storedetails = pd.read_csv('StoreDetails.csv')\n",
    "storedetails"
   ]
  },
  {
   "cell_type": "code",
   "execution_count": 7,
   "id": "f7305f65",
   "metadata": {},
   "outputs": [
    {
     "name": "stdout",
     "output_type": "stream",
     "text": [
      "<class 'pandas.core.frame.DataFrame'>\n",
      "RangeIndex: 8190 entries, 0 to 8189\n",
      "Data columns (total 4 columns):\n",
      " #   Column        Non-Null Count  Dtype  \n",
      "---  ------        --------------  -----  \n",
      " 0   Store         8190 non-null   int64  \n",
      " 1   Date          8190 non-null   object \n",
      " 2   Temperature   8190 non-null   float64\n",
      " 3   Unemployment  7605 non-null   float64\n",
      "dtypes: float64(2), int64(1), object(1)\n",
      "memory usage: 256.1+ KB\n"
     ]
    }
   ],
   "source": [
    "storedetails.info()"
   ]
  },
  {
   "cell_type": "code",
   "execution_count": null,
   "id": "2e403719",
   "metadata": {},
   "outputs": [],
   "source": []
  },
  {
   "cell_type": "code",
   "execution_count": 8,
   "id": "dc036985",
   "metadata": {
    "scrolled": true
   },
   "outputs": [
    {
     "data": {
      "text/plain": [
       "Store             0\n",
       "Date              0\n",
       "Temperature       0\n",
       "Unemployment    585\n",
       "dtype: int64"
      ]
     },
     "execution_count": 8,
     "metadata": {},
     "output_type": "execute_result"
    }
   ],
   "source": [
    "storedetails.isnull().sum()"
   ]
  },
  {
   "cell_type": "code",
   "execution_count": 9,
   "id": "59a9f56b",
   "metadata": {},
   "outputs": [],
   "source": [
    "storedetails.fillna(storedetails['Unemployment'].mean(),inplace=True)"
   ]
  },
  {
   "cell_type": "code",
   "execution_count": 10,
   "id": "980b626a",
   "metadata": {},
   "outputs": [
    {
     "data": {
      "text/plain": [
       "Store           0\n",
       "Date            0\n",
       "Temperature     0\n",
       "Unemployment    0\n",
       "dtype: int64"
      ]
     },
     "execution_count": 10,
     "metadata": {},
     "output_type": "execute_result"
    }
   ],
   "source": [
    "storedetails.isnull().sum()"
   ]
  },
  {
   "cell_type": "code",
   "execution_count": 11,
   "id": "2f786029",
   "metadata": {},
   "outputs": [
    {
     "data": {
      "text/html": [
       "<div>\n",
       "<style scoped>\n",
       "    .dataframe tbody tr th:only-of-type {\n",
       "        vertical-align: middle;\n",
       "    }\n",
       "\n",
       "    .dataframe tbody tr th {\n",
       "        vertical-align: top;\n",
       "    }\n",
       "\n",
       "    .dataframe thead th {\n",
       "        text-align: right;\n",
       "    }\n",
       "</style>\n",
       "<table border=\"1\" class=\"dataframe\">\n",
       "  <thead>\n",
       "    <tr style=\"text-align: right;\">\n",
       "      <th></th>\n",
       "      <th>Store</th>\n",
       "      <th>Date</th>\n",
       "      <th>Temperature</th>\n",
       "      <th>Unemployment</th>\n",
       "    </tr>\n",
       "  </thead>\n",
       "  <tbody>\n",
       "    <tr>\n",
       "      <th>8170</th>\n",
       "      <td>45</td>\n",
       "      <td>15/03/2013</td>\n",
       "      <td>42.81</td>\n",
       "      <td>8.625000</td>\n",
       "    </tr>\n",
       "    <tr>\n",
       "      <th>8171</th>\n",
       "      <td>45</td>\n",
       "      <td>22/03/2013</td>\n",
       "      <td>36.55</td>\n",
       "      <td>8.625000</td>\n",
       "    </tr>\n",
       "    <tr>\n",
       "      <th>8172</th>\n",
       "      <td>45</td>\n",
       "      <td>29/03/2013</td>\n",
       "      <td>40.68</td>\n",
       "      <td>8.625000</td>\n",
       "    </tr>\n",
       "    <tr>\n",
       "      <th>8173</th>\n",
       "      <td>45</td>\n",
       "      <td>5/04/2013</td>\n",
       "      <td>43.94</td>\n",
       "      <td>8.335000</td>\n",
       "    </tr>\n",
       "    <tr>\n",
       "      <th>8174</th>\n",
       "      <td>45</td>\n",
       "      <td>12/04/2013</td>\n",
       "      <td>57.39</td>\n",
       "      <td>8.335000</td>\n",
       "    </tr>\n",
       "    <tr>\n",
       "      <th>8175</th>\n",
       "      <td>45</td>\n",
       "      <td>19/04/2013</td>\n",
       "      <td>56.27</td>\n",
       "      <td>8.335000</td>\n",
       "    </tr>\n",
       "    <tr>\n",
       "      <th>8176</th>\n",
       "      <td>45</td>\n",
       "      <td>26/04/2013</td>\n",
       "      <td>50.64</td>\n",
       "      <td>8.335000</td>\n",
       "    </tr>\n",
       "    <tr>\n",
       "      <th>8177</th>\n",
       "      <td>45</td>\n",
       "      <td>3/05/2013</td>\n",
       "      <td>56.07</td>\n",
       "      <td>7.826821</td>\n",
       "    </tr>\n",
       "    <tr>\n",
       "      <th>8178</th>\n",
       "      <td>45</td>\n",
       "      <td>10/05/2013</td>\n",
       "      <td>58.86</td>\n",
       "      <td>7.826821</td>\n",
       "    </tr>\n",
       "    <tr>\n",
       "      <th>8179</th>\n",
       "      <td>45</td>\n",
       "      <td>17/05/2013</td>\n",
       "      <td>60.59</td>\n",
       "      <td>7.826821</td>\n",
       "    </tr>\n",
       "    <tr>\n",
       "      <th>8180</th>\n",
       "      <td>45</td>\n",
       "      <td>24/05/2013</td>\n",
       "      <td>67.11</td>\n",
       "      <td>7.826821</td>\n",
       "    </tr>\n",
       "    <tr>\n",
       "      <th>8181</th>\n",
       "      <td>45</td>\n",
       "      <td>31/05/2013</td>\n",
       "      <td>65.88</td>\n",
       "      <td>7.826821</td>\n",
       "    </tr>\n",
       "    <tr>\n",
       "      <th>8182</th>\n",
       "      <td>45</td>\n",
       "      <td>7/06/2013</td>\n",
       "      <td>70.71</td>\n",
       "      <td>7.826821</td>\n",
       "    </tr>\n",
       "    <tr>\n",
       "      <th>8183</th>\n",
       "      <td>45</td>\n",
       "      <td>14/06/2013</td>\n",
       "      <td>70.01</td>\n",
       "      <td>7.826821</td>\n",
       "    </tr>\n",
       "    <tr>\n",
       "      <th>8184</th>\n",
       "      <td>45</td>\n",
       "      <td>21/06/2013</td>\n",
       "      <td>70.13</td>\n",
       "      <td>7.826821</td>\n",
       "    </tr>\n",
       "    <tr>\n",
       "      <th>8185</th>\n",
       "      <td>45</td>\n",
       "      <td>28/06/2013</td>\n",
       "      <td>76.05</td>\n",
       "      <td>7.826821</td>\n",
       "    </tr>\n",
       "    <tr>\n",
       "      <th>8186</th>\n",
       "      <td>45</td>\n",
       "      <td>5/07/2013</td>\n",
       "      <td>77.50</td>\n",
       "      <td>7.826821</td>\n",
       "    </tr>\n",
       "    <tr>\n",
       "      <th>8187</th>\n",
       "      <td>45</td>\n",
       "      <td>12/07/2013</td>\n",
       "      <td>79.37</td>\n",
       "      <td>7.826821</td>\n",
       "    </tr>\n",
       "    <tr>\n",
       "      <th>8188</th>\n",
       "      <td>45</td>\n",
       "      <td>19/07/2013</td>\n",
       "      <td>82.84</td>\n",
       "      <td>7.826821</td>\n",
       "    </tr>\n",
       "    <tr>\n",
       "      <th>8189</th>\n",
       "      <td>45</td>\n",
       "      <td>26/07/2013</td>\n",
       "      <td>76.06</td>\n",
       "      <td>7.826821</td>\n",
       "    </tr>\n",
       "  </tbody>\n",
       "</table>\n",
       "</div>"
      ],
      "text/plain": [
       "      Store        Date  Temperature  Unemployment\n",
       "8170     45  15/03/2013        42.81      8.625000\n",
       "8171     45  22/03/2013        36.55      8.625000\n",
       "8172     45  29/03/2013        40.68      8.625000\n",
       "8173     45   5/04/2013        43.94      8.335000\n",
       "8174     45  12/04/2013        57.39      8.335000\n",
       "8175     45  19/04/2013        56.27      8.335000\n",
       "8176     45  26/04/2013        50.64      8.335000\n",
       "8177     45   3/05/2013        56.07      7.826821\n",
       "8178     45  10/05/2013        58.86      7.826821\n",
       "8179     45  17/05/2013        60.59      7.826821\n",
       "8180     45  24/05/2013        67.11      7.826821\n",
       "8181     45  31/05/2013        65.88      7.826821\n",
       "8182     45   7/06/2013        70.71      7.826821\n",
       "8183     45  14/06/2013        70.01      7.826821\n",
       "8184     45  21/06/2013        70.13      7.826821\n",
       "8185     45  28/06/2013        76.05      7.826821\n",
       "8186     45   5/07/2013        77.50      7.826821\n",
       "8187     45  12/07/2013        79.37      7.826821\n",
       "8188     45  19/07/2013        82.84      7.826821\n",
       "8189     45  26/07/2013        76.06      7.826821"
      ]
     },
     "execution_count": 11,
     "metadata": {},
     "output_type": "execute_result"
    }
   ],
   "source": [
    "storedetails.tail(20)"
   ]
  },
  {
   "cell_type": "code",
   "execution_count": 12,
   "id": "a2a520d3",
   "metadata": {},
   "outputs": [
    {
     "data": {
      "text/html": [
       "<div>\n",
       "<style scoped>\n",
       "    .dataframe tbody tr th:only-of-type {\n",
       "        vertical-align: middle;\n",
       "    }\n",
       "\n",
       "    .dataframe tbody tr th {\n",
       "        vertical-align: top;\n",
       "    }\n",
       "\n",
       "    .dataframe thead th {\n",
       "        text-align: right;\n",
       "    }\n",
       "</style>\n",
       "<table border=\"1\" class=\"dataframe\">\n",
       "  <thead>\n",
       "    <tr style=\"text-align: right;\">\n",
       "      <th></th>\n",
       "      <th>Store</th>\n",
       "      <th>Date</th>\n",
       "      <th>Weekly_Sales</th>\n",
       "    </tr>\n",
       "  </thead>\n",
       "  <tbody>\n",
       "    <tr>\n",
       "      <th>0</th>\n",
       "      <td>1</td>\n",
       "      <td>5/02/2010</td>\n",
       "      <td>24924.50</td>\n",
       "    </tr>\n",
       "    <tr>\n",
       "      <th>1</th>\n",
       "      <td>1</td>\n",
       "      <td>12/02/2010</td>\n",
       "      <td>46039.49</td>\n",
       "    </tr>\n",
       "    <tr>\n",
       "      <th>2</th>\n",
       "      <td>1</td>\n",
       "      <td>19/02/2010</td>\n",
       "      <td>41595.55</td>\n",
       "    </tr>\n",
       "    <tr>\n",
       "      <th>3</th>\n",
       "      <td>1</td>\n",
       "      <td>26/02/2010</td>\n",
       "      <td>19403.54</td>\n",
       "    </tr>\n",
       "    <tr>\n",
       "      <th>4</th>\n",
       "      <td>1</td>\n",
       "      <td>5/03/2010</td>\n",
       "      <td>21827.90</td>\n",
       "    </tr>\n",
       "    <tr>\n",
       "      <th>...</th>\n",
       "      <td>...</td>\n",
       "      <td>...</td>\n",
       "      <td>...</td>\n",
       "    </tr>\n",
       "    <tr>\n",
       "      <th>6430</th>\n",
       "      <td>45</td>\n",
       "      <td>28/09/2012</td>\n",
       "      <td>13153.22</td>\n",
       "    </tr>\n",
       "    <tr>\n",
       "      <th>6431</th>\n",
       "      <td>45</td>\n",
       "      <td>5/10/2012</td>\n",
       "      <td>15309.43</td>\n",
       "    </tr>\n",
       "    <tr>\n",
       "      <th>6432</th>\n",
       "      <td>45</td>\n",
       "      <td>12/10/2012</td>\n",
       "      <td>16109.15</td>\n",
       "    </tr>\n",
       "    <tr>\n",
       "      <th>6433</th>\n",
       "      <td>45</td>\n",
       "      <td>19/10/2012</td>\n",
       "      <td>19128.81</td>\n",
       "    </tr>\n",
       "    <tr>\n",
       "      <th>6434</th>\n",
       "      <td>45</td>\n",
       "      <td>26/10/2012</td>\n",
       "      <td>27117.16</td>\n",
       "    </tr>\n",
       "  </tbody>\n",
       "</table>\n",
       "<p>6435 rows × 3 columns</p>\n",
       "</div>"
      ],
      "text/plain": [
       "      Store        Date  Weekly_Sales\n",
       "0         1   5/02/2010      24924.50\n",
       "1         1  12/02/2010      46039.49\n",
       "2         1  19/02/2010      41595.55\n",
       "3         1  26/02/2010      19403.54\n",
       "4         1   5/03/2010      21827.90\n",
       "...     ...         ...           ...\n",
       "6430     45  28/09/2012      13153.22\n",
       "6431     45   5/10/2012      15309.43\n",
       "6432     45  12/10/2012      16109.15\n",
       "6433     45  19/10/2012      19128.81\n",
       "6434     45  26/10/2012      27117.16\n",
       "\n",
       "[6435 rows x 3 columns]"
      ]
     },
     "execution_count": 12,
     "metadata": {},
     "output_type": "execute_result"
    }
   ],
   "source": [
    "weeklysales = pd.read_csv('Weekly-Sales.csv')\n",
    "weeklysales"
   ]
  },
  {
   "cell_type": "code",
   "execution_count": 13,
   "id": "66ca8dc5",
   "metadata": {},
   "outputs": [
    {
     "name": "stdout",
     "output_type": "stream",
     "text": [
      "<class 'pandas.core.frame.DataFrame'>\n",
      "RangeIndex: 6435 entries, 0 to 6434\n",
      "Data columns (total 3 columns):\n",
      " #   Column        Non-Null Count  Dtype  \n",
      "---  ------        --------------  -----  \n",
      " 0   Store         6435 non-null   int64  \n",
      " 1   Date          6435 non-null   object \n",
      " 2   Weekly_Sales  6435 non-null   float64\n",
      "dtypes: float64(1), int64(1), object(1)\n",
      "memory usage: 150.9+ KB\n"
     ]
    }
   ],
   "source": [
    "weeklysales.info()"
   ]
  },
  {
   "cell_type": "code",
   "execution_count": 14,
   "id": "90505e6c",
   "metadata": {},
   "outputs": [
    {
     "data": {
      "text/plain": [
       "Store           0\n",
       "Date            0\n",
       "Weekly_Sales    0\n",
       "dtype: int64"
      ]
     },
     "execution_count": 14,
     "metadata": {},
     "output_type": "execute_result"
    }
   ],
   "source": [
    "weeklysales.isnull().sum()"
   ]
  },
  {
   "cell_type": "markdown",
   "id": "deb0acc9",
   "metadata": {},
   "source": [
    "### Merging data Files"
   ]
  },
  {
   "cell_type": "code",
   "execution_count": 15,
   "id": "852c9804",
   "metadata": {},
   "outputs": [
    {
     "data": {
      "text/html": [
       "<div>\n",
       "<style scoped>\n",
       "    .dataframe tbody tr th:only-of-type {\n",
       "        vertical-align: middle;\n",
       "    }\n",
       "\n",
       "    .dataframe tbody tr th {\n",
       "        vertical-align: top;\n",
       "    }\n",
       "\n",
       "    .dataframe thead th {\n",
       "        text-align: right;\n",
       "    }\n",
       "</style>\n",
       "<table border=\"1\" class=\"dataframe\">\n",
       "  <thead>\n",
       "    <tr style=\"text-align: right;\">\n",
       "      <th></th>\n",
       "      <th>Store</th>\n",
       "      <th>Date</th>\n",
       "      <th>Temperature</th>\n",
       "      <th>Unemployment</th>\n",
       "      <th>Weekly_Sales</th>\n",
       "    </tr>\n",
       "  </thead>\n",
       "  <tbody>\n",
       "    <tr>\n",
       "      <th>0</th>\n",
       "      <td>1</td>\n",
       "      <td>5/02/2010</td>\n",
       "      <td>42.31</td>\n",
       "      <td>8.106</td>\n",
       "      <td>24924.50</td>\n",
       "    </tr>\n",
       "    <tr>\n",
       "      <th>1</th>\n",
       "      <td>1</td>\n",
       "      <td>12/02/2010</td>\n",
       "      <td>38.51</td>\n",
       "      <td>8.106</td>\n",
       "      <td>46039.49</td>\n",
       "    </tr>\n",
       "    <tr>\n",
       "      <th>2</th>\n",
       "      <td>1</td>\n",
       "      <td>19/02/2010</td>\n",
       "      <td>39.93</td>\n",
       "      <td>8.106</td>\n",
       "      <td>41595.55</td>\n",
       "    </tr>\n",
       "    <tr>\n",
       "      <th>3</th>\n",
       "      <td>1</td>\n",
       "      <td>26/02/2010</td>\n",
       "      <td>46.63</td>\n",
       "      <td>8.106</td>\n",
       "      <td>19403.54</td>\n",
       "    </tr>\n",
       "    <tr>\n",
       "      <th>4</th>\n",
       "      <td>1</td>\n",
       "      <td>5/03/2010</td>\n",
       "      <td>46.50</td>\n",
       "      <td>8.106</td>\n",
       "      <td>21827.90</td>\n",
       "    </tr>\n",
       "    <tr>\n",
       "      <th>...</th>\n",
       "      <td>...</td>\n",
       "      <td>...</td>\n",
       "      <td>...</td>\n",
       "      <td>...</td>\n",
       "      <td>...</td>\n",
       "    </tr>\n",
       "    <tr>\n",
       "      <th>6430</th>\n",
       "      <td>45</td>\n",
       "      <td>28/09/2012</td>\n",
       "      <td>64.88</td>\n",
       "      <td>8.684</td>\n",
       "      <td>13153.22</td>\n",
       "    </tr>\n",
       "    <tr>\n",
       "      <th>6431</th>\n",
       "      <td>45</td>\n",
       "      <td>5/10/2012</td>\n",
       "      <td>64.89</td>\n",
       "      <td>8.667</td>\n",
       "      <td>15309.43</td>\n",
       "    </tr>\n",
       "    <tr>\n",
       "      <th>6432</th>\n",
       "      <td>45</td>\n",
       "      <td>12/10/2012</td>\n",
       "      <td>54.47</td>\n",
       "      <td>8.667</td>\n",
       "      <td>16109.15</td>\n",
       "    </tr>\n",
       "    <tr>\n",
       "      <th>6433</th>\n",
       "      <td>45</td>\n",
       "      <td>19/10/2012</td>\n",
       "      <td>56.47</td>\n",
       "      <td>8.667</td>\n",
       "      <td>19128.81</td>\n",
       "    </tr>\n",
       "    <tr>\n",
       "      <th>6434</th>\n",
       "      <td>45</td>\n",
       "      <td>26/10/2012</td>\n",
       "      <td>58.85</td>\n",
       "      <td>8.667</td>\n",
       "      <td>27117.16</td>\n",
       "    </tr>\n",
       "  </tbody>\n",
       "</table>\n",
       "<p>6435 rows × 5 columns</p>\n",
       "</div>"
      ],
      "text/plain": [
       "      Store        Date  Temperature  Unemployment  Weekly_Sales\n",
       "0         1   5/02/2010        42.31         8.106      24924.50\n",
       "1         1  12/02/2010        38.51         8.106      46039.49\n",
       "2         1  19/02/2010        39.93         8.106      41595.55\n",
       "3         1  26/02/2010        46.63         8.106      19403.54\n",
       "4         1   5/03/2010        46.50         8.106      21827.90\n",
       "...     ...         ...          ...           ...           ...\n",
       "6430     45  28/09/2012        64.88         8.684      13153.22\n",
       "6431     45   5/10/2012        64.89         8.667      15309.43\n",
       "6432     45  12/10/2012        54.47         8.667      16109.15\n",
       "6433     45  19/10/2012        56.47         8.667      19128.81\n",
       "6434     45  26/10/2012        58.85         8.667      27117.16\n",
       "\n",
       "[6435 rows x 5 columns]"
      ]
     },
     "execution_count": 15,
     "metadata": {},
     "output_type": "execute_result"
    }
   ],
   "source": [
    "store_data=pd.merge(storedetails,weeklysales,on=['Store','Date'])\n",
    "store_data"
   ]
  },
  {
   "cell_type": "code",
   "execution_count": 16,
   "id": "a085285b",
   "metadata": {},
   "outputs": [
    {
     "data": {
      "text/html": [
       "<div>\n",
       "<style scoped>\n",
       "    .dataframe tbody tr th:only-of-type {\n",
       "        vertical-align: middle;\n",
       "    }\n",
       "\n",
       "    .dataframe tbody tr th {\n",
       "        vertical-align: top;\n",
       "    }\n",
       "\n",
       "    .dataframe thead th {\n",
       "        text-align: right;\n",
       "    }\n",
       "</style>\n",
       "<table border=\"1\" class=\"dataframe\">\n",
       "  <thead>\n",
       "    <tr style=\"text-align: right;\">\n",
       "      <th></th>\n",
       "      <th>Store</th>\n",
       "      <th>Date</th>\n",
       "      <th>Temperature</th>\n",
       "      <th>Unemployment</th>\n",
       "      <th>Weekly_Sales</th>\n",
       "      <th>Region</th>\n",
       "    </tr>\n",
       "  </thead>\n",
       "  <tbody>\n",
       "    <tr>\n",
       "      <th>0</th>\n",
       "      <td>1</td>\n",
       "      <td>5/02/2010</td>\n",
       "      <td>42.31</td>\n",
       "      <td>8.106</td>\n",
       "      <td>24924.50</td>\n",
       "      <td>A</td>\n",
       "    </tr>\n",
       "    <tr>\n",
       "      <th>1</th>\n",
       "      <td>1</td>\n",
       "      <td>12/02/2010</td>\n",
       "      <td>38.51</td>\n",
       "      <td>8.106</td>\n",
       "      <td>46039.49</td>\n",
       "      <td>A</td>\n",
       "    </tr>\n",
       "    <tr>\n",
       "      <th>2</th>\n",
       "      <td>1</td>\n",
       "      <td>19/02/2010</td>\n",
       "      <td>39.93</td>\n",
       "      <td>8.106</td>\n",
       "      <td>41595.55</td>\n",
       "      <td>A</td>\n",
       "    </tr>\n",
       "    <tr>\n",
       "      <th>3</th>\n",
       "      <td>1</td>\n",
       "      <td>26/02/2010</td>\n",
       "      <td>46.63</td>\n",
       "      <td>8.106</td>\n",
       "      <td>19403.54</td>\n",
       "      <td>A</td>\n",
       "    </tr>\n",
       "    <tr>\n",
       "      <th>4</th>\n",
       "      <td>1</td>\n",
       "      <td>5/03/2010</td>\n",
       "      <td>46.50</td>\n",
       "      <td>8.106</td>\n",
       "      <td>21827.90</td>\n",
       "      <td>A</td>\n",
       "    </tr>\n",
       "    <tr>\n",
       "      <th>...</th>\n",
       "      <td>...</td>\n",
       "      <td>...</td>\n",
       "      <td>...</td>\n",
       "      <td>...</td>\n",
       "      <td>...</td>\n",
       "      <td>...</td>\n",
       "    </tr>\n",
       "    <tr>\n",
       "      <th>6430</th>\n",
       "      <td>45</td>\n",
       "      <td>28/09/2012</td>\n",
       "      <td>64.88</td>\n",
       "      <td>8.684</td>\n",
       "      <td>13153.22</td>\n",
       "      <td>E</td>\n",
       "    </tr>\n",
       "    <tr>\n",
       "      <th>6431</th>\n",
       "      <td>45</td>\n",
       "      <td>5/10/2012</td>\n",
       "      <td>64.89</td>\n",
       "      <td>8.667</td>\n",
       "      <td>15309.43</td>\n",
       "      <td>E</td>\n",
       "    </tr>\n",
       "    <tr>\n",
       "      <th>6432</th>\n",
       "      <td>45</td>\n",
       "      <td>12/10/2012</td>\n",
       "      <td>54.47</td>\n",
       "      <td>8.667</td>\n",
       "      <td>16109.15</td>\n",
       "      <td>E</td>\n",
       "    </tr>\n",
       "    <tr>\n",
       "      <th>6433</th>\n",
       "      <td>45</td>\n",
       "      <td>19/10/2012</td>\n",
       "      <td>56.47</td>\n",
       "      <td>8.667</td>\n",
       "      <td>19128.81</td>\n",
       "      <td>E</td>\n",
       "    </tr>\n",
       "    <tr>\n",
       "      <th>6434</th>\n",
       "      <td>45</td>\n",
       "      <td>26/10/2012</td>\n",
       "      <td>58.85</td>\n",
       "      <td>8.667</td>\n",
       "      <td>27117.16</td>\n",
       "      <td>E</td>\n",
       "    </tr>\n",
       "  </tbody>\n",
       "</table>\n",
       "<p>6435 rows × 6 columns</p>\n",
       "</div>"
      ],
      "text/plain": [
       "      Store        Date  Temperature  Unemployment  Weekly_Sales Region\n",
       "0         1   5/02/2010        42.31         8.106      24924.50      A\n",
       "1         1  12/02/2010        38.51         8.106      46039.49      A\n",
       "2         1  19/02/2010        39.93         8.106      41595.55      A\n",
       "3         1  26/02/2010        46.63         8.106      19403.54      A\n",
       "4         1   5/03/2010        46.50         8.106      21827.90      A\n",
       "...     ...         ...          ...           ...           ...    ...\n",
       "6430     45  28/09/2012        64.88         8.684      13153.22      E\n",
       "6431     45   5/10/2012        64.89         8.667      15309.43      E\n",
       "6432     45  12/10/2012        54.47         8.667      16109.15      E\n",
       "6433     45  19/10/2012        56.47         8.667      19128.81      E\n",
       "6434     45  26/10/2012        58.85         8.667      27117.16      E\n",
       "\n",
       "[6435 rows x 6 columns]"
      ]
     },
     "execution_count": 16,
     "metadata": {},
     "output_type": "execute_result"
    }
   ],
   "source": [
    "store_data=pd.merge(store_data,region,on=['Store'])\n",
    "store_data"
   ]
  },
  {
   "cell_type": "code",
   "execution_count": 17,
   "id": "4dad660b",
   "metadata": {},
   "outputs": [
    {
     "data": {
      "text/plain": [
       "Region\n",
       "A    9\n",
       "B    9\n",
       "C    9\n",
       "D    9\n",
       "E    9\n",
       "Name: Store, dtype: int64"
      ]
     },
     "execution_count": 17,
     "metadata": {},
     "output_type": "execute_result"
    }
   ],
   "source": [
    "region.groupby(['Region'])['Store'].count()   #stores in each region"
   ]
  },
  {
   "cell_type": "markdown",
   "id": "d75bba08",
   "metadata": {},
   "source": [
    "### Comparing the trends of all stores in a given year."
   ]
  },
  {
   "cell_type": "code",
   "execution_count": 20,
   "id": "3f7fb7c7",
   "metadata": {},
   "outputs": [
    {
     "data": {
      "text/plain": [
       "Region\n",
       "A    23941225.67\n",
       "B    31994329.50\n",
       "C    31535066.89\n",
       "D    18208384.07\n",
       "E    17959770.41\n",
       "Name: Weekly_Sales, dtype: float64"
      ]
     },
     "execution_count": 20,
     "metadata": {},
     "output_type": "execute_result"
    }
   ],
   "source": [
    "region_profit=store_data.groupby(['Region'])['Weekly_Sales'].sum()  # Totalsale of each region from 2010-2012\n",
    "region_profit"
   ]
  },
  {
   "cell_type": "code",
   "execution_count": 57,
   "id": "14f9680e",
   "metadata": {
    "scrolled": false
   },
   "outputs": [
    {
     "data": {
      "image/png": "[encoded data removed]",
      "text/plain": [
       "<Figure size 640x480 with 1 Axes>"
      ]
     },
     "metadata": {},
     "output_type": "display_data"
    }
   ],
   "source": [
    "d=['A','B','C','D','E']\n",
    "plt.subplots()\n",
    "plt.bar(d,region_profit,color ='b',width=0.50)\n",
    "\n",
    "plt.xlabel('Stores',fontsize='10')\n",
    "plt.ylabel('Total Profit (In Crores)',fontsize='10')\n",
    "\n",
    "plt.title('Profit of each Region',fontsize='20')\n",
    "plt.savefig('Regionprofit.png')\n",
    "plt.show()\n"
   ]
  },
  {
   "cell_type": "code",
   "execution_count": 18,
   "id": "80e7b29d",
   "metadata": {},
   "outputs": [
    {
     "data": {
      "text/plain": [
       "Store\n",
       "1     3219405.18\n",
       "2     4401251.25\n",
       "3     1047992.81\n",
       "4     5288131.43\n",
       "5     1397761.09\n",
       "6     3413060.19\n",
       "7     1364620.58\n",
       "8     2114945.31\n",
       "9     1694057.83\n",
       "10    5709294.87\n",
       "11    2697110.41\n",
       "12    2478202.53\n",
       "13    6723925.13\n",
       "14    4377485.02\n",
       "15    1979941.94\n",
       "16    1623404.55\n",
       "17    3260630.11\n",
       "18    3144334.94\n",
       "19    3075076.17\n",
       "20    5798002.67\n",
       "21    2137857.04\n",
       "22    3073537.77\n",
       "23    4745663.86\n",
       "24    2696840.34\n",
       "25    2880863.34\n",
       "26    2774595.10\n",
       "27    4352630.60\n",
       "28    2885804.92\n",
       "29    2217172.04\n",
       "30    1399737.86\n",
       "31    2482001.30\n",
       "32    3267927.45\n",
       "33     340209.38\n",
       "34    2852502.95\n",
       "35    2442818.65\n",
       "36     320209.52\n",
       "37    1576465.73\n",
       "38     990066.01\n",
       "39    3135278.03\n",
       "40    2687624.77\n",
       "41    3318352.17\n",
       "42    1483646.22\n",
       "43    1079522.59\n",
       "44    1151148.90\n",
       "45    2537665.99\n",
       "Name: Weekly_Sales, dtype: float64"
      ]
     },
     "execution_count": 18,
     "metadata": {},
     "output_type": "execute_result"
    }
   ],
   "source": [
    "store_profit=store_data.groupby(['Store'])['Weekly_Sales'].sum()    # Totalsale of each store from 2010-2012\n",
    "store_profit"
   ]
  },
  {
   "cell_type": "code",
   "execution_count": 58,
   "id": "4c9a48d1",
   "metadata": {
    "scrolled": false
   },
   "outputs": [
    {
     "data": {
      "image/png": "[encoded data removed]",
      "text/plain": [
       "<Figure size 640x480 with 1 Axes>"
      ]
     },
     "metadata": {},
     "output_type": "display_data"
    }
   ],
   "source": [
    "d=[x for x in range(46)if x>0]\n",
    "plt.subplots()\n",
    "plt.bar(d,store_profit,color ='m')\n",
    "\n",
    "plt.xlabel('Stores',fontsize='10')\n",
    "plt.ylabel('Total Profit(In Lakhs)',fontsize='10')\n",
    "\n",
    "plt.title('Profit of each store',fontsize='20')\n",
    "plt.savefig('storeprofit.png')\n",
    "plt.show()\n",
    "# plt.show()"
   ]
  },
  {
   "cell_type": "code",
   "execution_count": 22,
   "id": "6e73fc79",
   "metadata": {},
   "outputs": [
    {
     "data": {
      "text/plain": [
       "Store\n",
       "13    6723925.13\n",
       "20    5798002.67\n",
       "10    5709294.87\n",
       "4     5288131.43\n",
       "23    4745663.86\n",
       "2     4401251.25\n",
       "14    4377485.02\n",
       "27    4352630.60\n",
       "6     3413060.19\n",
       "41    3318352.17\n",
       "Name: Weekly_Sales, dtype: float64"
      ]
     },
     "execution_count": 22,
     "metadata": {},
     "output_type": "execute_result"
    }
   ],
   "source": [
    "store_profit.sort_values(ascending=False).head(10) #top 10 stores with maximum profit\n"
   ]
  },
  {
   "cell_type": "markdown",
   "id": "280cb4e9",
   "metadata": {},
   "source": [
    "### Show the change in ice cream sales over the period 2010 to 2012"
   ]
  },
  {
   "cell_type": "code",
   "execution_count": 45,
   "id": "d9585f63",
   "metadata": {},
   "outputs": [],
   "source": [
    "df_1=store_data[store_data['Date'].str.contains(\"/2010\")]     "
   ]
  },
  {
   "cell_type": "code",
   "execution_count": 24,
   "id": "853988dd",
   "metadata": {},
   "outputs": [
    {
     "data": {
      "text/plain": [
       "Region\n",
       "C    11255439.84\n",
       "B    11138795.06\n",
       "A     8202911.50\n",
       "D     6274930.62\n",
       "E     5971457.36\n",
       "Name: Weekly_Sales, dtype: float64"
      ]
     },
     "execution_count": 24,
     "metadata": {},
     "output_type": "execute_result"
    }
   ],
   "source": [
    "df1=df_1.groupby(['Region'])['Weekly_Sales'].sum().sort_values(ascending=False)\n",
    "df1"
   ]
  },
  {
   "cell_type": "code",
   "execution_count": 25,
   "id": "6ac8b592",
   "metadata": {},
   "outputs": [],
   "source": [
    "df_2=store_data[store_data['Date'].str.contains(\"/2011\")]"
   ]
  },
  {
   "cell_type": "code",
   "execution_count": 26,
   "id": "98104194",
   "metadata": {},
   "outputs": [
    {
     "data": {
      "text/plain": [
       "Region\n",
       "B    11885412.92\n",
       "C    11512218.97\n",
       "A     8705549.43\n",
       "D     6671399.21\n",
       "E     6574733.87\n",
       "Name: Weekly_Sales, dtype: float64"
      ]
     },
     "execution_count": 26,
     "metadata": {},
     "output_type": "execute_result"
    }
   ],
   "source": [
    "df2=df_2.groupby(['Region'])['Weekly_Sales'].sum().sort_values(ascending=False)\n",
    "df2"
   ]
  },
  {
   "cell_type": "code",
   "execution_count": 27,
   "id": "2253a234",
   "metadata": {},
   "outputs": [],
   "source": [
    "df_3=store_data[store_data['Date'].str.contains(\"/2012\")]"
   ]
  },
  {
   "cell_type": "code",
   "execution_count": 28,
   "id": "3858911a",
   "metadata": {},
   "outputs": [
    {
     "data": {
      "text/plain": [
       "Region\n",
       "B    8970121.52\n",
       "C    8767408.08\n",
       "A    7032764.74\n",
       "E    5413579.18\n",
       "D    5262054.24\n",
       "Name: Weekly_Sales, dtype: float64"
      ]
     },
     "execution_count": 28,
     "metadata": {},
     "output_type": "execute_result"
    }
   ],
   "source": [
    "df3=df_3.groupby(['Region'])['Weekly_Sales'].sum().sort_values(ascending=False)\n",
    "df3"
   ]
  },
  {
   "cell_type": "code",
   "execution_count": 29,
   "id": "23a9b694",
   "metadata": {},
   "outputs": [
    {
     "data": {
      "image/png": "[encoded data removed]",
      "text/plain": [
       "<Figure size 640x480 with 1 Axes>"
      ]
     },
     "metadata": {},
     "output_type": "display_data"
    },
    {
     "data": {
      "image/png": "[encoded data removed]",
      "text/plain": [
       "<Figure size 640x480 with 1 Axes>"
      ]
     },
     "metadata": {},
     "output_type": "display_data"
    },
    {
     "data": {
      "image/png": "[encoded data removed]",
      "text/plain": [
       "<Figure size 640x480 with 1 Axes>"
      ]
     },
     "metadata": {},
     "output_type": "display_data"
    }
   ],
   "source": [
    "d=['A','B','C','D','E']                             #Bar plot for each Region\n",
    "plt.bar(d,df1,color ='b',width=0.50)\n",
    "\n",
    "plt.xlabel('Region')\n",
    "plt.ylabel('Total Profit')\n",
    "\n",
    "plt.title('Profit of stores in each region in 2010')\n",
    "plt.show()\n",
    "\n",
    "plt.bar(d,df2,color ='r',width=0.50)\n",
    "\n",
    "plt.xlabel('Region')\n",
    "plt.ylabel('Total Profit')\n",
    "\n",
    "plt.title('Profit of stores in each region in 2011')\n",
    "plt.show()\n",
    "\n",
    "plt.bar(d,df3,color ='m',width=0.50)\n",
    "\n",
    "plt.xlabel('Region')\n",
    "plt.ylabel('Total Profit')\n",
    "\n",
    "plt.title('Profit of stores in each region in 2012')\n",
    "plt.show()"
   ]
  },
  {
   "cell_type": "code",
   "execution_count": 30,
   "id": "c4d30a30",
   "metadata": {},
   "outputs": [
    {
     "data": {
      "image/png": "[encoded data removed]",
      "text/plain": [
       "<Figure size 640x480 with 1 Axes>"
      ]
     },
     "metadata": {},
     "output_type": "display_data"
    },
    {
     "data": {
      "image/png": "[encoded data removed]",
      "text/plain": [
       "<Figure size 640x480 with 1 Axes>"
      ]
     },
     "metadata": {},
     "output_type": "display_data"
    },
    {
     "data": {
      "image/png": "[encoded data removed]",
      "text/plain": [
       "<Figure size 640x480 with 1 Axes>"
      ]
     },
     "metadata": {},
     "output_type": "display_data"
    }
   ],
   "source": [
    "d=[x for x in range(46)if x>0]                            #Bar chart for each Store\n",
    "store1= df_1.groupby(['Store'])['Weekly_Sales'].sum()\n",
    "plt.bar(d,store1,color ='b',width=0.50)\n",
    "\n",
    "plt.xlabel('Store')\n",
    "plt.ylabel('Total Profit')\n",
    "\n",
    "plt.title('Profit of stores in each Store in 2010')\n",
    "plt.show()\n",
    "\n",
    "store2= df_2.groupby(['Store'])['Weekly_Sales'].sum()\n",
    "plt.bar(d,store2,color ='r',width=0.50)\n",
    "\n",
    "plt.xlabel('Store')\n",
    "plt.ylabel('Total Profit')\n",
    "\n",
    "plt.title('Profit of stores in each Store in 2011')\n",
    "plt.show()\n",
    "\n",
    "store3= df_3.groupby(['Store'])['Weekly_Sales'].sum()\n",
    "plt.bar(d,store3,color ='m',width=0.50)\n",
    "\n",
    "plt.xlabel('Store')\n",
    "plt.ylabel('Total Profit')\n",
    "\n",
    "plt.title('Profit of stores in each Store in 2012')\n",
    "plt.show()"
   ]
  },
  {
   "cell_type": "markdown",
   "id": "8256ef80",
   "metadata": {},
   "source": [
    "### Top 10 performing stores each year"
   ]
  },
  {
   "cell_type": "code",
   "execution_count": 31,
   "id": "12281945",
   "metadata": {},
   "outputs": [
    {
     "data": {
      "text/plain": [
       "Store\n",
       "13    2257010.66\n",
       "20    2155536.75\n",
       "10    2073394.31\n",
       "4     1779957.23\n",
       "23    1648923.44\n",
       "2     1571898.18\n",
       "14    1565400.69\n",
       "27    1544366.01\n",
       "6     1227756.19\n",
       "18    1182928.09\n",
       "Name: Weekly_Sales, dtype: float64"
      ]
     },
     "execution_count": 31,
     "metadata": {},
     "output_type": "execute_result"
    }
   ],
   "source": [
    "df_1.groupby(['Store'])['Weekly_Sales'].sum().sort_values(ascending=False).head(10)"
   ]
  },
  {
   "cell_type": "code",
   "execution_count": 32,
   "id": "a3f60bfb",
   "metadata": {},
   "outputs": [
    {
     "data": {
      "text/plain": [
       "Store\n",
       "13    2540585.58\n",
       "10    2108481.44\n",
       "20    2056700.30\n",
       "4     1954980.78\n",
       "23    1750173.16\n",
       "14    1610669.10\n",
       "27    1583136.21\n",
       "2     1566742.87\n",
       "41    1244173.41\n",
       "6     1215094.97\n",
       "Name: Weekly_Sales, dtype: float64"
      ]
     },
     "execution_count": 32,
     "metadata": {},
     "output_type": "execute_result"
    }
   ],
   "source": [
    "df_2.groupby(['Store'])['Weekly_Sales'].sum().sort_values(ascending=False).head(10)"
   ]
  },
  {
   "cell_type": "code",
   "execution_count": 33,
   "id": "af9e91cc",
   "metadata": {},
   "outputs": [
    {
     "data": {
      "text/plain": [
       "Store\n",
       "13    1926328.89\n",
       "20    1585765.62\n",
       "4     1553193.42\n",
       "10    1527419.12\n",
       "23    1346567.26\n",
       "2     1262610.20\n",
       "27    1225128.38\n",
       "14    1201415.23\n",
       "41    1020020.00\n",
       "17    1007126.78\n",
       "Name: Weekly_Sales, dtype: float64"
      ]
     },
     "execution_count": 33,
     "metadata": {},
     "output_type": "execute_result"
    }
   ],
   "source": [
    "df_3.groupby(['Store'])['Weekly_Sales'].sum().sort_values(ascending=False).head(10)"
   ]
  },
  {
   "cell_type": "markdown",
   "id": "64d127aa",
   "metadata": {},
   "source": [
    "## Temperature"
   ]
  },
  {
   "cell_type": "code",
   "execution_count": 34,
   "id": "855ba537",
   "metadata": {},
   "outputs": [
    {
     "data": {
      "text/plain": [
       "Region\n",
       "A    64.370031\n",
       "B    58.121694\n",
       "C    54.159340\n",
       "D    64.366472\n",
       "E    62.301375\n",
       "Name: Temperature, dtype: float64"
      ]
     },
     "execution_count": 34,
     "metadata": {},
     "output_type": "execute_result"
    }
   ],
   "source": [
    "#by region\n",
    "store_data.groupby(['Region'])['Temperature'].mean()"
   ]
  },
  {
   "cell_type": "code",
   "execution_count": 35,
   "id": "d7df46c9",
   "metadata": {},
   "outputs": [
    {
     "data": {
      "image/png": "[encoded data removed]",
      "text/plain": [
       "<Figure size 640x480 with 1 Axes>"
      ]
     },
     "metadata": {},
     "output_type": "display_data"
    }
   ],
   "source": [
    "d=['A','B','C','D','E']\n",
    "\n",
    "plt.bar(d,store_data.groupby(['Region'])['Temperature'].mean(),color ='m',width=0.50)\n",
    "plt.xlabel('Region')\n",
    "plt.ylabel('Mean Temperature')\n",
    "plt.title('Temperature in each region',fontweight='bold')\n",
    "plt.show()"
   ]
  },
  {
   "cell_type": "code",
   "execution_count": null,
   "id": "d0041db8",
   "metadata": {},
   "outputs": [],
   "source": []
  },
  {
   "cell_type": "code",
   "execution_count": null,
   "id": "56a9ac02",
   "metadata": {},
   "outputs": [],
   "source": []
  },
  {
   "cell_type": "code",
   "execution_count": 36,
   "id": "fcbbb253",
   "metadata": {},
   "outputs": [],
   "source": [
    "# By Store details"
   ]
  },
  {
   "cell_type": "code",
   "execution_count": 37,
   "id": "bd41fd89",
   "metadata": {},
   "outputs": [
    {
     "data": {
      "text/plain": [
       "Store\n",
       "1    68.306783\n",
       "2    68.216364\n",
       "3    71.434196\n",
       "4    62.253357\n",
       "5    69.410140\n",
       "Name: Temperature, dtype: float64"
      ]
     },
     "execution_count": 37,
     "metadata": {},
     "output_type": "execute_result"
    }
   ],
   "source": [
    "store_data.groupby(['Store'])['Temperature'].mean().head(5)"
   ]
  },
  {
   "cell_type": "code",
   "execution_count": 61,
   "id": "c7990dd0",
   "metadata": {},
   "outputs": [
    {
     "data": {
      "image/png": "[encoded data removed]",
      "text/plain": [
       "<Figure size 640x480 with 1 Axes>"
      ]
     },
     "metadata": {},
     "output_type": "display_data"
    }
   ],
   "source": [
    "## Barplot for Temperature in each Store\n",
    "d=[x for x in range(46)if x>0]   \n",
    "\n",
    "plt.bar(d,store_data.groupby(['Store'])['Temperature'].mean(),color ='y')\n",
    "plt.xlabel('Store')\n",
    "plt.ylabel('Mean Temperature')\n",
    "plt.title('Temperature in each Store',fontweight='bold')\n",
    "plt.show()"
   ]
  },
  {
   "cell_type": "markdown",
   "id": "4e490ac6",
   "metadata": {},
   "source": [
    "## Unemployment"
   ]
  },
  {
   "cell_type": "code",
   "execution_count": 39,
   "id": "0a5cc59e",
   "metadata": {},
   "outputs": [
    {
     "data": {
      "text/plain": [
       "Region\n",
       "A    6.895079\n",
       "B    8.240995\n",
       "C    7.505460\n",
       "D    9.097986\n",
       "E    8.256235\n",
       "Name: Unemployment, dtype: float64"
      ]
     },
     "execution_count": 39,
     "metadata": {},
     "output_type": "execute_result"
    }
   ],
   "source": [
    "#by each region\n",
    "store_data.groupby(['Region'])['Unemployment'].mean()"
   ]
  },
  {
   "cell_type": "code",
   "execution_count": 40,
   "id": "d303e052",
   "metadata": {},
   "outputs": [
    {
     "data": {
      "image/png": "[encoded data removed]",
      "text/plain": [
       "<Figure size 640x480 with 1 Axes>"
      ]
     },
     "metadata": {},
     "output_type": "display_data"
    }
   ],
   "source": [
    "d=['A','B','C','D','E']\n",
    "\n",
    "plt.bar(d,store_data.groupby(['Region'])['Unemployment'].mean(),color ='m',width=0.50)\n",
    "plt.xlabel('Region')\n",
    "plt.ylabel('Unemployment')\n",
    "plt.title('Unemployment in each region',fontweight='bold')\n",
    "plt.show()"
   ]
  },
  {
   "cell_type": "code",
   "execution_count": 41,
   "id": "3507c909",
   "metadata": {},
   "outputs": [
    {
     "data": {
      "text/plain": [
       "Store\n",
       "1    7.610420\n",
       "2    7.623846\n",
       "3    7.176986\n",
       "4    5.964692\n",
       "5    6.295406\n",
       "Name: Unemployment, dtype: float64"
      ]
     },
     "execution_count": 41,
     "metadata": {},
     "output_type": "execute_result"
    }
   ],
   "source": [
    "\n",
    "store_data.groupby(['Store'])['Unemployment'].mean().head()"
   ]
  },
  {
   "cell_type": "code",
   "execution_count": 42,
   "id": "0628c997",
   "metadata": {},
   "outputs": [
    {
     "data": {
      "image/png": "[encoded data removed]",
      "text/plain": [
       "<Figure size 640x480 with 1 Axes>"
      ]
     },
     "metadata": {},
     "output_type": "display_data"
    }
   ],
   "source": [
    "d=[x for x in range(46)if x>0]   \n",
    "\n",
    "plt.bar(d,store_data.groupby(['Store'])['Unemployment'].mean(),color ='g')\n",
    "plt.xlabel('Store')\n",
    "plt.ylabel('Unemployment')\n",
    "plt.title('Unemployment in each Store',fontweight='bold')\n",
    "plt.show()"
   ]
  },
  {
   "cell_type": "markdown",
   "id": "af4f30ba",
   "metadata": {},
   "source": [
    "## Comparing sales against the different store details (i.e. temperature and unemployment) to see what the relationship between them is "
   ]
  },
  {
   "cell_type": "code",
   "execution_count": 54,
   "id": "b0da6ffb",
   "metadata": {
    "scrolled": false
   },
   "outputs": [
    {
     "data": {
      "image/png": "[encoded data removed]",
      "text/plain": [
       "<Figure size 600x600 with 3 Axes>"
      ]
     },
     "metadata": {},
     "output_type": "display_data"
    }
   ],
   "source": [
    "sns.jointplot(x='Unemployment',y='Weekly_Sales',data=store_data)\n",
    "plt.savefig('Relationship.png')"
   ]
  },
  {
   "cell_type": "code",
   "execution_count": null,
   "id": "d9a6e66e",
   "metadata": {},
   "outputs": [],
   "source": []
  }
 ],
 "metadata": {
  "kernelspec": {
   "display_name": "Python 3 (ipykernel)",
   "language": "python",
   "name": "python3"
  },
  "language_info": {
   "codemirror_mode": {
    "name": "ipython",
    "version": 3
   },
   "file_extension": ".py",
   "mimetype": "text/x-python",
   "name": "python",
   "nbconvert_exporter": "python",
   "pygments_lexer": "ipython3",
   "version": "3.9.13"
  }
 },
 "nbformat": 4,
 "nbformat_minor": 5
}
